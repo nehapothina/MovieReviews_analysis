{
 "cells": [
  {
   "cell_type": "markdown",
   "metadata": {},
   "source": [
    "# Movie Reviews Analysis using Naive Bayes"
   ]
  },
  {
   "cell_type": "code",
   "execution_count": 35,
   "metadata": {},
   "outputs": [],
   "source": [
    "%matplotlib inline\n",
    "import pandas as pd\n",
    "import numpy as np\n",
    "import matplotlib.pyplot as plt\n",
    "\n",
    "from  sklearn.cross_validation import cross_val_score\n",
    "from sklearn.cross_validation import train_test_split\n",
    "from sklearn.naive_bayes import MultinomialNB\n",
    "from sklearn.feature_extraction.text import CountVectorizer\n",
    "import statsmodels.formula.api as smf\n",
    "from sklearn.metrics import mean_squared_error\n",
    "from sklearn.preprocessing import StandardScaler\n",
    "from sklearn.decomposition import PCA\n",
    "\n",
    "import warnings; warnings.simplefilter('ignore')"
   ]
  },
  {
   "cell_type": "markdown",
   "metadata": {},
   "source": [
    "## Introduction\n",
    "\n",
    "In this scenario, I'll be analyzing movie reviews in an attempt to determine whether movies are good or bad.  I've downloaded a large number of movie reviews from the [Rotten Tomatoes](http://www.rottentomatoes.com) website, which are available in the file \"reviews.csv\".  I've also put a file \"movies.dat\" that contains metadata for ~65,000 different movies\n",
    "\n",
    "The mission is to develop a classifier to determine whether a movie is Fresh or Rotten based on the contents of the reviews given to the movie. We'll start out with some exploratory data analysis."
   ]
  },
  {
   "cell_type": "markdown",
   "metadata": {},
   "source": [
    "---\n",
    "\n",
    "## Descriptive analysis\n",
    "\n",
    "Before beginning the \"real\" work, I dug into the data a bit do see what we're dealing with.  We begin by loading the datasets and dropping rows that have missing data:"
   ]
  },
  {
   "cell_type": "code",
   "execution_count": 36,
   "metadata": {
    "collapsed": true
   },
   "outputs": [],
   "source": [
    "reviews = pd.read_csv('reviews.csv')\n",
    "movies = pd.read_csv(\"movies.dat\", delimiter='\\t')\n",
    "\n",
    "reviews = reviews[~reviews.quote.isnull()]\n",
    "reviews = reviews[reviews.fresh != 'none']\n",
    "reviews = reviews[reviews.quote.str.len() > 0]"
   ]
  },
  {
   "cell_type": "markdown",
   "metadata": {},
   "source": [
    "### Basic features of the dataset\n",
    "\n",
    "We try to answer the following questions:\n",
    "\n",
    "* How many unique reviews (quotes) are in the `reviews` dataset?\n",
    "* How many unique reviewers (critics) are in the `reviews` dataset?\n",
    "* How many unique movies are in the `reviews` dataset?\n",
    "* How many unique movies are in the *`movies`* dataset?\n",
    "* How many different publications have reviews in the `reviews` dataset?\n"
   ]
  },
  {
   "cell_type": "code",
   "execution_count": 37,
   "metadata": {},
   "outputs": [
    {
     "name": "stdout",
     "output_type": "stream",
     "text": [
      "The number of unique reviews(quotes) in the reviews dataset is: 12814\n",
      "The number of unique reviewers(critics) in the reviews dataset is: 541\n",
      "The number of unique movies in the reviews dataset is: 1720\n",
      "The number of unique movies in the movies dataset is: 9423\n",
      "The number of unique publications in the reviews dataset is: 64\n"
     ]
    }
   ],
   "source": [
    "# Basic feature of the dataset\n",
    "print(\"The number of unique reviews(quotes) in the reviews dataset is:\",len(reviews.quote.unique()))\n",
    "print(\"The number of unique reviewers(critics) in the reviews dataset is:\",len(reviews.critic.unique()))\n",
    "print(\"The number of unique movies in the reviews dataset is:\",len(reviews.rtid.unique()))\n",
    "print(\"The number of unique movies in the movies dataset is:\",len(movies.id.unique()))\n",
    "print(\"The number of unique publications in the reviews dataset is:\",len(reviews.publication.unique()))"
   ]
  },
  {
   "cell_type": "markdown",
   "metadata": {},
   "source": [
    "###  Number of reviews per reviewer\n",
    "\n",
    "Using the `reviews` dataset, I created a histogram showing the distribution of the number of reviews per reviewer.  "
   ]
  },
  {
   "cell_type": "code",
   "execution_count": 38,
   "metadata": {},
   "outputs": [
    {
     "data": {
      "image/png": "[encoded data removed]",
      "text/plain": [
       "<matplotlib.figure.Figure at 0x11afb0f28>"
      ]
     },
     "metadata": {},
     "output_type": "display_data"
    }
   ],
   "source": [
    "# Histogram to show the distribution of the number of reviews per reviewer\n",
    "reviews_grouped = pd.groupby(reviews,by=reviews.critic)\n",
    "reviews_grouped = reviews_grouped.count()\n",
    "\n",
    "plt.figure(figsize=(10,5))\n",
    "plt.yscale('log',nonposy = \"clip\")\n",
    "plt.hist(reviews_grouped.fresh,bins=np.arange(1,30,1),color=\"Blue\",edgecolor=\"black\")\n",
    "plt.title(\"Reviewers vs. Log(Total Reviews)\")\n",
    "plt.ylabel(\"Log(Total Reviews)\")\n",
    "plt.xlabel(\"Reviewers\")\n",
    "plt.show()"
   ]
  },
  {
   "cell_type": "markdown",
   "metadata": {},
   "source": [
    "### Zoom in on a few reviewers\n",
    "We try to find the 30 critics with the most reviews, and list their names in a table along with (a) the name of the publication they work for, (b) the date of their first review, and (c) the date of their last review"
   ]
  },
  {
   "cell_type": "code",
   "execution_count": 39,
   "metadata": {},
   "outputs": [
    {
     "data": {
      "text/html": [
       "<div>\n",
       "<table border=\"1\" class=\"dataframe\">\n",
       "  <thead>\n",
       "    <tr style=\"text-align: right;\">\n",
       "      <th></th>\n",
       "      <th>Critic</th>\n",
       "      <th>Publisher</th>\n",
       "      <th>First Date</th>\n",
       "      <th>Last Date</th>\n",
       "      <th>Count</th>\n",
       "    </tr>\n",
       "  </thead>\n",
       "  <tbody>\n",
       "    <tr>\n",
       "      <th>0</th>\n",
       "      <td>Roger Ebert</td>\n",
       "      <td>Chicago Sun-Times</td>\n",
       "      <td>2000-01-01 00:00:00</td>\n",
       "      <td>2013-06-11 00:00:00</td>\n",
       "      <td>1150</td>\n",
       "    </tr>\n",
       "    <tr>\n",
       "      <th>1</th>\n",
       "      <td>James Berardinelli</td>\n",
       "      <td>ReelViews</td>\n",
       "      <td>1800-01-01 00:00:00</td>\n",
       "      <td>2012-02-07 00:00:00</td>\n",
       "      <td>833</td>\n",
       "    </tr>\n",
       "    <tr>\n",
       "      <th>2</th>\n",
       "      <td>Janet Maslin</td>\n",
       "      <td>New York Times</td>\n",
       "      <td>2000-01-01 00:00:00</td>\n",
       "      <td>2010-09-07 00:00:00</td>\n",
       "      <td>526</td>\n",
       "    </tr>\n",
       "    <tr>\n",
       "      <th>3</th>\n",
       "      <td>Variety Staff</td>\n",
       "      <td>Variety</td>\n",
       "      <td>2001-02-13 00:00:00</td>\n",
       "      <td>2012-08-15 00:00:00</td>\n",
       "      <td>449</td>\n",
       "    </tr>\n",
       "    <tr>\n",
       "      <th>4</th>\n",
       "      <td>Jonathan Rosenbaum</td>\n",
       "      <td>Chicago Reader</td>\n",
       "      <td>1988-07-11 00:00:00</td>\n",
       "      <td>2013-10-22 00:00:00</td>\n",
       "      <td>420</td>\n",
       "    </tr>\n",
       "    <tr>\n",
       "      <th>5</th>\n",
       "      <td>Desson Thomson</td>\n",
       "      <td>Washington Post</td>\n",
       "      <td>2000-01-01 00:00:00</td>\n",
       "      <td>2012-10-08 00:00:00</td>\n",
       "      <td>373</td>\n",
       "    </tr>\n",
       "    <tr>\n",
       "      <th>6</th>\n",
       "      <td>Geoff Andrew</td>\n",
       "      <td>Time Out</td>\n",
       "      <td>2005-08-11 00:00:00</td>\n",
       "      <td>2012-04-05 00:00:00</td>\n",
       "      <td>361</td>\n",
       "    </tr>\n",
       "    <tr>\n",
       "      <th>7</th>\n",
       "      <td>Dave Kehr</td>\n",
       "      <td>New York Daily News</td>\n",
       "      <td>2000-01-01 00:00:00</td>\n",
       "      <td>2013-11-20 00:00:00</td>\n",
       "      <td>360</td>\n",
       "    </tr>\n",
       "    <tr>\n",
       "      <th>8</th>\n",
       "      <td>Kenneth Turan</td>\n",
       "      <td>Los Angeles Times</td>\n",
       "      <td>2000-01-01 00:00:00</td>\n",
       "      <td>2013-10-05 00:00:00</td>\n",
       "      <td>282</td>\n",
       "    </tr>\n",
       "    <tr>\n",
       "      <th>9</th>\n",
       "      <td>Mick LaSalle</td>\n",
       "      <td>San Francisco Chronicle</td>\n",
       "      <td>2000-01-01 00:00:00</td>\n",
       "      <td>2009-11-25 00:00:00</td>\n",
       "      <td>280</td>\n",
       "    </tr>\n",
       "    <tr>\n",
       "      <th>10</th>\n",
       "      <td>Owen Gleiberman</td>\n",
       "      <td>Entertainment Weekly</td>\n",
       "      <td>1800-01-01 00:00:00</td>\n",
       "      <td>2011-09-07 00:00:00</td>\n",
       "      <td>241</td>\n",
       "    </tr>\n",
       "    <tr>\n",
       "      <th>11</th>\n",
       "      <td>Rita Kempley</td>\n",
       "      <td>Washington Post</td>\n",
       "      <td>2000-01-01 00:00:00</td>\n",
       "      <td>2013-11-02 00:00:00</td>\n",
       "      <td>236</td>\n",
       "    </tr>\n",
       "    <tr>\n",
       "      <th>12</th>\n",
       "      <td>Joe Baltake</td>\n",
       "      <td>Sacramento Bee</td>\n",
       "      <td>2000-01-01 00:00:00</td>\n",
       "      <td>2013-08-04 00:00:00</td>\n",
       "      <td>231</td>\n",
       "    </tr>\n",
       "    <tr>\n",
       "      <th>13</th>\n",
       "      <td>Todd McCarthy</td>\n",
       "      <td>Variety</td>\n",
       "      <td>2000-01-01 00:00:00</td>\n",
       "      <td>2012-10-09 00:00:00</td>\n",
       "      <td>223</td>\n",
       "    </tr>\n",
       "    <tr>\n",
       "      <th>14</th>\n",
       "      <td>Vincent Canby</td>\n",
       "      <td>New York Times</td>\n",
       "      <td>2000-01-01 00:00:00</td>\n",
       "      <td>2013-07-29 00:00:00</td>\n",
       "      <td>207</td>\n",
       "    </tr>\n",
       "    <tr>\n",
       "      <th>15</th>\n",
       "      <td>Hal Hinson</td>\n",
       "      <td>Washington Post</td>\n",
       "      <td>2000-01-01 00:00:00</td>\n",
       "      <td>2013-06-26 00:00:00</td>\n",
       "      <td>174</td>\n",
       "    </tr>\n",
       "    <tr>\n",
       "      <th>16</th>\n",
       "      <td>Susan Stark</td>\n",
       "      <td>Detroit News</td>\n",
       "      <td>2000-01-01 00:00:00</td>\n",
       "      <td>2002-10-25 00:00:00</td>\n",
       "      <td>167</td>\n",
       "    </tr>\n",
       "    <tr>\n",
       "      <th>17</th>\n",
       "      <td>Stephen Holden</td>\n",
       "      <td>New York Times</td>\n",
       "      <td>2000-01-01 00:00:00</td>\n",
       "      <td>2009-02-06 00:00:00</td>\n",
       "      <td>166</td>\n",
       "    </tr>\n",
       "    <tr>\n",
       "      <th>18</th>\n",
       "      <td>Derek Adams</td>\n",
       "      <td>Time Out</td>\n",
       "      <td>2006-01-26 00:00:00</td>\n",
       "      <td>2009-10-04 00:00:00</td>\n",
       "      <td>154</td>\n",
       "    </tr>\n",
       "    <tr>\n",
       "      <th>19</th>\n",
       "      <td>Kevin Thomas</td>\n",
       "      <td>Los Angeles Times</td>\n",
       "      <td>2000-01-01 00:00:00</td>\n",
       "      <td>2013-11-02 00:00:00</td>\n",
       "      <td>145</td>\n",
       "    </tr>\n",
       "    <tr>\n",
       "      <th>20</th>\n",
       "      <td>Peter Stack</td>\n",
       "      <td>San Francisco Chronicle</td>\n",
       "      <td>2000-01-01 00:00:00</td>\n",
       "      <td>2002-06-18 00:00:00</td>\n",
       "      <td>138</td>\n",
       "    </tr>\n",
       "    <tr>\n",
       "      <th>21</th>\n",
       "      <td>Bosley Crowther</td>\n",
       "      <td>New York Times</td>\n",
       "      <td>2000-01-01 00:00:00</td>\n",
       "      <td>2008-05-06 00:00:00</td>\n",
       "      <td>137</td>\n",
       "    </tr>\n",
       "    <tr>\n",
       "      <th>22</th>\n",
       "      <td>Rick Groen</td>\n",
       "      <td>Globe and Mail</td>\n",
       "      <td>2002-03-19 00:00:00</td>\n",
       "      <td>2009-08-14 00:00:00</td>\n",
       "      <td>129</td>\n",
       "    </tr>\n",
       "    <tr>\n",
       "      <th>23</th>\n",
       "      <td>Edward Guthmann</td>\n",
       "      <td>San Francisco Chronicle</td>\n",
       "      <td>2000-01-01 00:00:00</td>\n",
       "      <td>2003-04-04 00:00:00</td>\n",
       "      <td>121</td>\n",
       "    </tr>\n",
       "    <tr>\n",
       "      <th>24</th>\n",
       "      <td>Lisa Schwarzbaum</td>\n",
       "      <td>Entertainment Weekly</td>\n",
       "      <td>1979-01-01 00:00:00</td>\n",
       "      <td>2012-08-15 00:00:00</td>\n",
       "      <td>117</td>\n",
       "    </tr>\n",
       "    <tr>\n",
       "      <th>25</th>\n",
       "      <td>Liam Lacey</td>\n",
       "      <td>Globe and Mail</td>\n",
       "      <td>2001-08-24 00:00:00</td>\n",
       "      <td>2012-04-04 00:00:00</td>\n",
       "      <td>111</td>\n",
       "    </tr>\n",
       "    <tr>\n",
       "      <th>26</th>\n",
       "      <td>Emanuel Levy</td>\n",
       "      <td>Variety</td>\n",
       "      <td>2000-01-01 00:00:00</td>\n",
       "      <td>2010-08-06 00:00:00</td>\n",
       "      <td>110</td>\n",
       "    </tr>\n",
       "    <tr>\n",
       "      <th>27</th>\n",
       "      <td>Richard Schickel</td>\n",
       "      <td>The Atlantic</td>\n",
       "      <td>2000-01-01 00:00:00</td>\n",
       "      <td>2013-08-05 00:00:00</td>\n",
       "      <td>106</td>\n",
       "    </tr>\n",
       "    <tr>\n",
       "      <th>28</th>\n",
       "      <td>Richard Corliss</td>\n",
       "      <td>TIME Magazine</td>\n",
       "      <td>2003-12-16 00:00:00</td>\n",
       "      <td>2013-11-06 00:00:00</td>\n",
       "      <td>104</td>\n",
       "    </tr>\n",
       "    <tr>\n",
       "      <th>29</th>\n",
       "      <td>Michael Wilmington</td>\n",
       "      <td>Los Angeles Times</td>\n",
       "      <td>2000-01-01 00:00:00</td>\n",
       "      <td>2013-11-21 00:00:00</td>\n",
       "      <td>103</td>\n",
       "    </tr>\n",
       "  </tbody>\n",
       "</table>\n",
       "</div>"
      ],
      "text/plain": [
       "                Critic                Publisher           First Date  \\\n",
       "0          Roger Ebert        Chicago Sun-Times  2000-01-01 00:00:00   \n",
       "1   James Berardinelli                ReelViews  1800-01-01 00:00:00   \n",
       "2         Janet Maslin           New York Times  2000-01-01 00:00:00   \n",
       "3        Variety Staff                  Variety  2001-02-13 00:00:00   \n",
       "4   Jonathan Rosenbaum           Chicago Reader  1988-07-11 00:00:00   \n",
       "5       Desson Thomson          Washington Post  2000-01-01 00:00:00   \n",
       "6         Geoff Andrew                 Time Out  2005-08-11 00:00:00   \n",
       "7            Dave Kehr      New York Daily News  2000-01-01 00:00:00   \n",
       "8        Kenneth Turan        Los Angeles Times  2000-01-01 00:00:00   \n",
       "9         Mick LaSalle  San Francisco Chronicle  2000-01-01 00:00:00   \n",
       "10     Owen Gleiberman     Entertainment Weekly  1800-01-01 00:00:00   \n",
       "11        Rita Kempley          Washington Post  2000-01-01 00:00:00   \n",
       "12         Joe Baltake           Sacramento Bee  2000-01-01 00:00:00   \n",
       "13       Todd McCarthy                  Variety  2000-01-01 00:00:00   \n",
       "14       Vincent Canby           New York Times  2000-01-01 00:00:00   \n",
       "15          Hal Hinson          Washington Post  2000-01-01 00:00:00   \n",
       "16         Susan Stark             Detroit News  2000-01-01 00:00:00   \n",
       "17      Stephen Holden           New York Times  2000-01-01 00:00:00   \n",
       "18         Derek Adams                 Time Out  2006-01-26 00:00:00   \n",
       "19        Kevin Thomas        Los Angeles Times  2000-01-01 00:00:00   \n",
       "20         Peter Stack  San Francisco Chronicle  2000-01-01 00:00:00   \n",
       "21     Bosley Crowther           New York Times  2000-01-01 00:00:00   \n",
       "22          Rick Groen           Globe and Mail  2002-03-19 00:00:00   \n",
       "23     Edward Guthmann  San Francisco Chronicle  2000-01-01 00:00:00   \n",
       "24    Lisa Schwarzbaum     Entertainment Weekly  1979-01-01 00:00:00   \n",
       "25          Liam Lacey           Globe and Mail  2001-08-24 00:00:00   \n",
       "26        Emanuel Levy                  Variety  2000-01-01 00:00:00   \n",
       "27    Richard Schickel             The Atlantic  2000-01-01 00:00:00   \n",
       "28     Richard Corliss            TIME Magazine  2003-12-16 00:00:00   \n",
       "29  Michael Wilmington        Los Angeles Times  2000-01-01 00:00:00   \n",
       "\n",
       "              Last Date Count  \n",
       "0   2013-06-11 00:00:00  1150  \n",
       "1   2012-02-07 00:00:00   833  \n",
       "2   2010-09-07 00:00:00   526  \n",
       "3   2012-08-15 00:00:00   449  \n",
       "4   2013-10-22 00:00:00   420  \n",
       "5   2012-10-08 00:00:00   373  \n",
       "6   2012-04-05 00:00:00   361  \n",
       "7   2013-11-20 00:00:00   360  \n",
       "8   2013-10-05 00:00:00   282  \n",
       "9   2009-11-25 00:00:00   280  \n",
       "10  2011-09-07 00:00:00   241  \n",
       "11  2013-11-02 00:00:00   236  \n",
       "12  2013-08-04 00:00:00   231  \n",
       "13  2012-10-09 00:00:00   223  \n",
       "14  2013-07-29 00:00:00   207  \n",
       "15  2013-06-26 00:00:00   174  \n",
       "16  2002-10-25 00:00:00   167  \n",
       "17  2009-02-06 00:00:00   166  \n",
       "18  2009-10-04 00:00:00   154  \n",
       "19  2013-11-02 00:00:00   145  \n",
       "20  2002-06-18 00:00:00   138  \n",
       "21  2008-05-06 00:00:00   137  \n",
       "22  2009-08-14 00:00:00   129  \n",
       "23  2003-04-04 00:00:00   121  \n",
       "24  2012-08-15 00:00:00   117  \n",
       "25  2012-04-04 00:00:00   111  \n",
       "26  2010-08-06 00:00:00   110  \n",
       "27  2013-08-05 00:00:00   106  \n",
       "28  2013-11-06 00:00:00   104  \n",
       "29  2013-11-21 00:00:00   103  "
      ]
     },
     "execution_count": 39,
     "metadata": {},
     "output_type": "execute_result"
    }
   ],
   "source": [
    "reviews_grouped = reviews_grouped.sort_values(\"fresh\",ascending=False)\n",
    "index = reviews_grouped.index[range(30)]\n",
    "first_date = pd.groupby(reviews,by=reviews.critic).agg(np.min)\n",
    "last_date = pd.groupby(reviews,by= reviews.critic).agg(np.max)\n",
    "\n",
    "first=[]\n",
    "last=[]\n",
    "publisher = []\n",
    "count = []\n",
    "\n",
    "for i in index:\n",
    "    first.append(first_date.review_date[first_date.index == i])\n",
    "    last.append(last_date.review_date[last_date.index == i])\n",
    "    publisher.append(reviews.publication[reviews.critic==i].max())\n",
    "    count.append(reviews_grouped.fresh[reviews_grouped.index ==i])\n",
    "\n",
    "stacked_arr = np.column_stack((index,publisher,first, last,count))  \n",
    "df = pd.DataFrame(stacked_arr)  \n",
    "df.columns=['Critic','Publisher','First Date','Last Date','Count']\n",
    "df"
   ]
  },
  {
   "cell_type": "markdown",
   "metadata": {},
   "source": [
    "### Ratings over time\n",
    "\n",
    "Using the `movies` dataset, I created a plot that shows how the average rating per movie (rtAllCriticsRating) has evolved over time."
   ]
  },
  {
   "cell_type": "code",
   "execution_count": 40,
   "metadata": {},
   "outputs": [
    {
     "data": {
      "image/png": "[encoded data removed]",
      "text/plain": [
       "<matplotlib.figure.Figure at 0x125905208>"
      ]
     },
     "metadata": {},
     "output_type": "display_data"
    }
   ],
   "source": [
    "rating_int = pd.to_numeric(movies.rtAllCriticsRating, errors='coerce')\n",
    "del movies['rtAllCriticsRating']\n",
    "movies['rtAllCriticsRating'] = rating_int\n",
    "\n",
    "plt.figure(figsize=(15,5))\n",
    "plt.ylim([movies.rtAllCriticsRating.min()-1,movies.rtAllCriticsRating.max()+1])\n",
    "plt.xlim([movies.year.min()-1,movies.year.max()+1])\n",
    "\n",
    "plt.scatter(movies.year[movies.rtAllCriticsRating>0], movies.rtAllCriticsRating[movies.rtAllCriticsRating>0])\n",
    "\n",
    "avgrating = pd.DataFrame.groupby(movies[movies.rtAllCriticsRating>0], by = movies[movies.rtAllCriticsRating>0].year).mean()\n",
    "\n",
    "\n",
    "plt.plot(avgrating.index, avgrating.rtAllCriticsRating, 'red')\n",
    "\n",
    "plt.xlabel(\"Year\")\n",
    "plt.ylabel(\"Average rating per movie\")\n",
    "plt.title(\"Average rating of movies as a function of year\")\n",
    "\n",
    "plt.show()"
   ]
  },
  {
   "cell_type": "markdown",
   "metadata": {},
   "source": [
    "The trend of the average rating per movie seems to decline as the number of movies increases, over the years. One explanation may be that, as the number of movies increases, the overall quality of movies decreased as well. Another explanation, could be as the number of movies increased, the metophorical bar for good movies increased as well, thus increasing the expectations and standards of movies being made, and only exceptionally good movies got high ratings.  "
   ]
  },
  {
   "cell_type": "markdown",
   "metadata": {},
   "source": [
    "---\n",
    "\n",
    "## Naive Bayes\n",
    "\n",
    "Now we use a Naive Bayes Classifier to build a prediction model for whether a review is fresh or rotten, depending on the text of the review. \n",
    "\n",
    "### Using CountVectorizer\n",
    "\n",
    "We use CountVectorizor(http://scikit-learn.org/stable/modules/generated/sklearn.feature_extraction.text.CountVectorizer.html) object in Scikit-learn.  This will help us convert out raw text fields into \"bag of words\" vectors."
   ]
  },
  {
   "cell_type": "code",
   "execution_count": 41,
   "metadata": {},
   "outputs": [
    {
     "name": "stdout",
     "output_type": "stream",
     "text": [
      "Original text:\n",
      " machine learning rocks\n",
      "machine learning rules\n",
      "rocks rocks rules\n",
      "Transformed text vector:\n",
      " [[1 1 1 0]\n",
      " [1 1 0 1]\n",
      " [0 0 2 1]]\n",
      "Words for each feature:\n",
      "['learning', 'machine', 'rocks', 'rules']\n"
     ]
    }
   ],
   "source": [
    "from sklearn.feature_extraction.text import CountVectorizer\n",
    "\n",
    "text = ['machine learning rocks', 'machine learning rules', 'rocks rocks rules']\n",
    "print(\"Original text:\\n\", '\\n'.join(text))\n",
    "vectorizer = CountVectorizer(min_df=0)\n",
    "\n",
    "# call `fit` to build the vocabulary\n",
    "vectorizer.fit(text)\n",
    "\n",
    "# call `transform` to convert text to a bag of words\n",
    "x = vectorizer.transform(text)\n",
    "\n",
    "# CountVectorizer uses a sparse array to save memory, but it's easier in this assignment to \n",
    "# convert back to a \"normal\" numpy array\n",
    "x = x.toarray()\n",
    "\n",
    "print (\"Transformed text vector:\\n\", x)\n",
    "\n",
    "# `get_feature_names` tracks which word is associated with each column of the transformed x\n",
    "print (\"Words for each feature:\")\n",
    "print (vectorizer.get_feature_names())"
   ]
  },
  {
   "cell_type": "markdown",
   "metadata": {},
   "source": [
    "### Create  X input and Y output\n",
    "\n",
    "Using the `reviews` dataframe, we compute a pair of numerical X, Y arrays where:\n",
    "    \n",
    " * X is a `(nreview, nwords)` array. Each row corresponds to a bag-of-words representation for a single review. This will be the *input* to your model.\n",
    " * Y is a `nreview`-element 1/0 array, encoding whether a review is Fresh (1) or Rotten (0). This is the desired *output* from your model.\n",
    " "
   ]
  },
  {
   "cell_type": "code",
   "execution_count": 42,
   "metadata": {
    "collapsed": true
   },
   "outputs": [],
   "source": [
    "\n",
    "def make_xy(critics, vectorizer=None):    \n",
    "    if vectorizer is None:\n",
    "        vectorizer = CountVectorizer()\n",
    "    X = vectorizer.fit_transform(critics.quote)\n",
    "    X = X.tocsc()  # some versions of sklearn return COO format\n",
    "    Y = (critics.fresh == 'fresh').values.astype(np.int)\n",
    "    return X, Y\n"
   ]
  },
  {
   "cell_type": "markdown",
   "metadata": {},
   "source": [
    "### Test-Train split\n",
    "\n",
    "Next, we randomly split the data into two groups: a training set and a validation set.  "
   ]
  },
  {
   "cell_type": "code",
   "execution_count": 43,
   "metadata": {
    "collapsed": true
   },
   "outputs": [],
   "source": [
    "Input, Output = make_xy(reviews)\n",
    "TrainInput,TestInput,TrainOutput,TestOutput =  train_test_split(Input,Output,train_size = 0.75, random_state=1)"
   ]
  },
  {
   "cell_type": "markdown",
   "metadata": {},
   "source": [
    "### Naive Bayes with `MultinomialNB`\n",
    "We use the training set to train a Naive Bayes classifier using the MultinomialNB.\n"
   ]
  },
  {
   "cell_type": "code",
   "execution_count": 44,
   "metadata": {},
   "outputs": [
    {
     "name": "stdout",
     "output_type": "stream",
     "text": [
      "Performance/Accuracy on Training set:  92.61 %\n",
      "Performace/Accuracy on Testing set:  78.03 %\n"
     ]
    }
   ],
   "source": [
    "\n",
    "import sklearn.naive_bayes as nb\n",
    "fitted_model = nb.MultinomialNB()\n",
    "fitted_model.fit(X=TrainInput,y=TrainOutput)\n",
    "predTrainOutput = fitted_model.predict(TrainInput)\n",
    "predTestOutput = fitted_model.predict(TestInput)\n",
    "\n",
    "PerformanceTrain=(1-(abs(predTrainOutput-TrainOutput).sum())/float(len(TrainOutput)))*100\n",
    "PerformanceTest=(1-(abs(predTestOutput-TestOutput).sum())/float(len(TestOutput)))*100\n",
    "\n",
    "print(\"Performance/Accuracy on Training set: \",round(PerformanceTrain,2),\"%\")\n",
    "print(\"Performace/Accuracy on Testing set: \",round(PerformanceTest,2),\"%\")"
   ]
  },
  {
   "cell_type": "markdown",
   "metadata": {},
   "source": [
    "The model seems to perform quite well on the training set, having a 92% accuracy. However, when the model is appied to the test set, the accuracy goes down to 78%. This means the model doesnt seem to be able generalize the results well, an may be overfitting on the training set, which could explain it's low performance on the test set.  "
   ]
  },
  {
   "cell_type": "markdown",
   "metadata": {},
   "source": [
    "---\n",
    "\n",
    "## Evaluation\n",
    "\n",
    "### Estimate the likelihood of our data\n",
    "\n",
    "Given a fitted model, we can compute the log-likelihood of our data as a way to assess the performance of your model. "
   ]
  },
  {
   "cell_type": "code",
   "execution_count": 45,
   "metadata": {},
   "outputs": [
    {
     "name": "stdout",
     "output_type": "stream",
     "text": [
      "Log-Likelihood on Training dataset:  -1879.8528684\n",
      "Log-Likelihood on Testing dataset:  -1860.30332749\n"
     ]
    }
   ],
   "source": [
    "\n",
    "\n",
    "def log_likelihood(model, x, y):\n",
    "    prob = model.predict_log_proba(x)\n",
    "    rotten = y == 0\n",
    "    fresh = ~rotten\n",
    "    return prob[rotten, 0].sum() + prob[fresh, 1].sum()\n",
    "\n",
    "ll_train = log_likelihood(fitted_model,TrainInput,TrainOutput)\n",
    "ll_test = log_likelihood(fitted_model,TestInput,TestOutput)\n",
    "\n",
    "\n",
    "print('Log-Likelihood on Training dataset: ' ,ll_train)\n",
    "print('Log-Likelihood on Testing dataset: ' ,ll_test)"
   ]
  },
  {
   "cell_type": "markdown",
   "metadata": {},
   "source": [
    "### Cross-Validation\n",
    "\n",
    "\n",
    "Our classifier has a few hyperparameters. The two most important are:\n",
    "\n",
    " 1. The `min_df` keyword in `CountVectorizer`, which will ignore words which appear in fewer than `min_df` fraction of reviews. Words that appear only once or twice can lead to overfitting, since words which occur only a few times might correlate very well with Fresh/Rotten reviews by chance in the training dataset.\n",
    " \n",
    " 2. The [`alpha` keyword](http://scikit-learn.org/stable/modules/naive_bayes.html#multinomial-naive-bayes) in the Bayesian classifier is a \"smoothing parameter\" -- increasing the value decreases the sensitivity to any single feature, and tends to pull prediction probabilities closer to 50%. \n",
    "\n",
    "The objective function we want to maximize is the log-likelihood of our data. We loop over many values of `alpha` and `min_df` to determine which settings are \"best\" in the sense of maximizing the cross-validated log-likelihood.\n"
   ]
  },
  {
   "cell_type": "code",
   "execution_count": 46,
   "metadata": {},
   "outputs": [
    {
     "name": "stdout",
     "output_type": "stream",
     "text": [
      "Maximum value of log-likelihood achieved: -1468.44843088\n",
      "Value of 'alpha' that maximizes log-likelihood: 5\n",
      "Value of 'min_df' that maximizes log-likelihood: 0.001\n"
     ]
    }
   ],
   "source": [
    "#the grid of parameters to search over\n",
    "alphas = [0, .1, 1, 5, 10, 50]\n",
    "min_dfs = [1e-5, 1e-4, 1e-3, 1e-2, 1e-1]\n",
    "\n",
    "#Find the best value for alpha and min_df, and the best classifier\n",
    "best_alpha = None\n",
    "best_min_df = None\n",
    "max_loglike = -np.inf\n",
    "            \n",
    "for a in alphas:\n",
    "    for m in min_dfs:\n",
    "        vector = CountVectorizer(min_df = m)\n",
    "        Input, Output = make_xy(reviews, vector)\n",
    "        s = cross_val_score(nb.MultinomialNB(alpha=a).fit(Input,Output), Input,Output,cv=5, scoring=log_likelihood).mean()\n",
    "        if s > max_loglike:\n",
    "            max_loglike = s\n",
    "            best_alpha = a\n",
    "            best_min_df = m\n",
    "            \n",
    "print(\"Maximum value of log-likelihood achieved:\",max_loglike)\n",
    "print(\"Value of 'alpha' that maximizes log-likelihood:\",best_alpha)\n",
    "print(\"Value of 'min_df' that maximizes log-likelihood:\",best_min_df)\n"
   ]
  },
  {
   "cell_type": "markdown",
   "metadata": {},
   "source": [
    "### Putting it together\n",
    "\n",
    "Now that we've determined values for alpha and min_df that optimize the cross-validated log-likelihood, we repeat the steps to train a final classifier with these parameters and re-evaluate the accuracy.  "
   ]
  },
  {
   "cell_type": "code",
   "execution_count": 47,
   "metadata": {},
   "outputs": [
    {
     "name": "stdout",
     "output_type": "stream",
     "text": [
      "Accuracy on training set is = 78.9546899841 %\n",
      "Accuracy on testing set is = 74.9329359165 %\n",
      "-4473.1449858\n",
      "-1764.63644583\n"
     ]
    }
   ],
   "source": [
    "def make_xy_1(reviews, min_df, vectorizer=None):\n",
    "    temp = reviews.quote\n",
    "    if vectorizer is None:\n",
    "        vectorizer = CountVectorizer(min_df=min_df)\n",
    "    X = vectorizer.fit_transform(temp)\n",
    "    Y = (reviews.fresh=='fresh').values.astype(np.int)\n",
    "    ## Stores all words in 'names' array for further use\n",
    "    names = np.array(vectorizer.get_feature_names())\n",
    "    return X, Y,names\n",
    "\n",
    "\n",
    "\n",
    "Input_1,Output_1, names = make_xy_1(reviews,best_min_df)\n",
    "\n",
    "train_Input_1, test_Input_1,train_Output_1, test_Output_1 = train_test_split(Input_1,Output_1)\n",
    "\n",
    "model_1 = nb.MultinomialNB(alpha=best_alpha)\n",
    "\n",
    "model_1.fit(train_Input_1,train_Output_1)\n",
    "\n",
    "print('Accuracy on training set is =',(1-(abs(model_1.predict(train_Input_1)-train_Output_1).sum())/float(len(train_Output_1)))*100,'%')\n",
    "\n",
    "print('Accuracy on testing set is =',(1-(abs(model_1.predict(test_Input_1)-test_Output_1).sum())/float(len(test_Output_1)))*100,'%')\n",
    "\n",
    "print(log_likelihood(model_1, train_Input_1, train_Output_1))\n",
    "print(log_likelihood(model_1, test_Input_1, test_Output_1))"
   ]
  },
  {
   "cell_type": "markdown",
   "metadata": {},
   "source": [
    "As a result of overfitting due to cross-validation, the model's performance seem to have substantially deteriorated. The model's accuracy for the training set, decreased from 92% to 78.8%, while the performance on the test set decreased from 78% to 74.5%. \n"
   ]
  },
  {
   "cell_type": "markdown",
   "metadata": {},
   "source": [
    "### Classification Accuracy\n",
    "What happens if we tried this again using a function besides the log-likelihood -- i.e., the classification accuracy."
   ]
  },
  {
   "cell_type": "code",
   "execution_count": 48,
   "metadata": {},
   "outputs": [
    {
     "name": "stdout",
     "output_type": "stream",
     "text": [
      "Value of 'alpha' : 1\n",
      "Value of 'min_df' : 1e-05\n",
      "Accuracy Score of Model on Training Set = 92.3804226919 %\n",
      "Accuracy Score of Model on Testing Set = 77.9182659743 %\n"
     ]
    }
   ],
   "source": [
    "from sklearn.metrics import mean_squared_error, accuracy_score\n",
    "\n",
    "best_alpha_1 = None\n",
    "best_min_df_1 = None\n",
    "max_accuracy_1=0\n",
    "\n",
    "for a in alphas:\n",
    "    for m in min_dfs:         \n",
    "        vectorizer_1 = CountVectorizer(min_df = m)       \n",
    "        Input_temp, Output_temp = make_xy(reviews, vectorizer_1)\n",
    "        fitted_model_temp = MultinomialNB(alpha=a).fit(Input_temp, Output_temp)\n",
    "        s_1 = cross_val_score(fitted_model_temp,Input_temp, Output_temp,cv=10, scoring='accuracy').mean()\n",
    "        if s_1 > max_accuracy_1:\n",
    "            max_accuracy_1=s_1\n",
    "            best_alpha_1 = a\n",
    "            best_min_df_1 = m\n",
    "            \n",
    "print(\"Value of 'alpha' :\",best_alpha_1)\n",
    "print(\"Value of 'min_df' :\",best_min_df_1)\n",
    "\n",
    "vectorizer_final = CountVectorizer(min_df=best_min_df_1)\n",
    "Input_final, Output_final = make_xy(reviews, vectorizer_final)\n",
    "\n",
    "Input_train_final,Input_test_final,Output_train_final,Output_test_final = train_test_split(Input_final, Output_final,\n",
    "                                                                                                 test_size = 0.33,\n",
    "                                                                                                 random_state = 42)\n",
    "fitted_model_final = MultinomialNB(alpha=best_alpha_1)\n",
    "\n",
    "fitted_model_final.fit(Input_train_final,Output_train_final)\n",
    "\n",
    "predicted_fresh_final = fitted_model_final.predict(Input_test_final)\n",
    "\n",
    "print(\"Accuracy Score of Model on Training Set =\",(1-(abs(fitted_model_final.predict(Input_train_final)-Output_train_final).sum())/float(len(Output_train_final)))*100,'%')\n",
    "\n",
    "print(\"Accuracy Score of Model on Testing Set =\",accuracy_score(Output_test_final,predicted_fresh_final)*100,'%')\n",
    "\n"
   ]
  },
  {
   "cell_type": "markdown",
   "metadata": {},
   "source": [
    "The values of alpha and min_df changed on trying to maximize classification accuracy. The model seems to have performed better when we tried to maximize loglikelihood, as the acuuarcy on training as well as test set increased. "
   ]
  },
  {
   "cell_type": "markdown",
   "metadata": {},
   "source": [
    "### Interpretation\n",
    "\n",
    "We check what words best predict a fresh or rotten review?  Using our classifier and the `vectorizer.get_feature_names` method, we determine which words best predict a positive or negative review. \n"
   ]
  },
  {
   "cell_type": "code",
   "execution_count": 49,
   "metadata": {},
   "outputs": [
    {
     "name": "stdout",
     "output_type": "stream",
     "text": [
      "Positive review \n",
      "   Probability         Word\n",
      "0     0.883901      complex\n",
      "1     0.880910  masterpiece\n",
      "2     0.875925      delight\n",
      "3     0.865948         rare\n",
      "4     0.864451     touching\n",
      "5     0.861670        witty\n",
      "6     0.857579     intimate\n",
      "7     0.850968  intelligent\n",
      "8     0.849913       moving\n",
      "9     0.843714        gives\n",
      "Negative review-\n",
      "   probability            word\n",
      "0     0.765266         problem\n",
      "1     0.771235         unfunny\n",
      "2     0.776167        tiresome\n",
      "3     0.785420      uninspired\n",
      "4     0.786888          stupid\n",
      "5     0.786888  disappointment\n",
      "6     0.793938           bland\n",
      "7     0.822174       pointless\n",
      "8     0.828064            lame\n",
      "9     0.855906   unfortunately\n"
     ]
    }
   ],
   "source": [
    "from pandas import DataFrame\n",
    "id_matrix = np.identity(test_Input_1.shape[1])\n",
    "p = model_1.predict_proba(id_matrix)[:,0]\n",
    "index = np.argsort(p)\n",
    "positive_words = names[index[:10]]\n",
    "positive_prob = 1 - p[index[:10]]\n",
    "positive = {'Word':positive_words, 'Probability': positive_prob}\n",
    "positive = DataFrame(data = positive)\n",
    "\n",
    "\n",
    "negative_words = names[index[-10:]]\n",
    "negative_prob = p[index[-10:]]\n",
    "negative = {'word':negative_words, 'probability':negative_prob} \n",
    "negative = DataFrame(data = negative)\n",
    "\n",
    "print('Positive review ')\n",
    "print(positive)\n",
    "print('Negative review-')\n",
    "print(negative)"
   ]
  },
  {
   "cell_type": "markdown",
   "metadata": {},
   "source": [
    "From the list above we can see that the words, that predict a positive review, are words like 'masterpiece', 'beautiful', and 'delight'. But these are words, that  can mean a bad review as well in context of what they are written in, and can all have negative connotations. The same can be said for the words that predict negative reviews as well, like 'dull' and 'sadly', which could both have positive connotations."
   ]
  },
  {
   "cell_type": "markdown",
   "metadata": {},
   "source": [
    "### Error Analysis\n",
    "\n",
    "Naive Bayes classifiers assume that every word affects the probability independently of other words. We check in what way is this a bad assumption. We check the classifier's Freshness probability for the review \"This movie is not remarkable, touching, or superb in any way\"."
   ]
  },
  {
   "cell_type": "code",
   "execution_count": 50,
   "metadata": {},
   "outputs": [
    {
     "name": "stdout",
     "output_type": "stream",
     "text": [
      "Mismatched quotes in rotten category:\n",
      "1. The Waterboy is arguably Sandler's most enjoyable motion picture to date, but it's still far from a masterpiece.\n",
      "\n",
      "\n",
      "2. The Disney organization is worst when it makes \"family entertainment\" and best when it sticks to pure, simple, charming fantasy.\n",
      "\n",
      "\n",
      "3. It survives today only as an unusually pure example of a typical 50s art-film strategy: the attempt to make the most modern and most popular of art forms acceptable to the intelligentsia by forcing it into an arcane, antique mold.\n",
      "\n",
      "\n",
      "4. It's a sad day when an actor who's totally, beautifully in touch with his dark side finds himself stuck in a movie that's scared of its own shadow.\n",
      "\n",
      "\n",
      "5. Irons gives an excruciating performance - what Streep's genuinely warm, wonderful Clara sees in him you'd need ESP to fathom.\n",
      "\n",
      "\n",
      "\n",
      "\n",
      "Mismatched quotes in fresh category:\n",
      "1. There's too much talent and too strong a story to mess it up. There was potential for more here, but this incarnation is nothing to be ashamed of, and some of the actors answer the bell.\n",
      "\n",
      "\n",
      "2. Though it's a good half hour too long, this overblown 1993 spin-off of the 60s TV show otherwise adds up to a pretty good suspense thriller.\n",
      "\n",
      "\n",
      "3. Might it be a serious attempt to right some unretrievable wrong via gallows humor which avoids the polemics? This seems to be the course taken; the attempt at least can be respected in theory.\n",
      "\n",
      "\n",
      "4. A kind of insane logic seems to connect the sketches, if you look hard enough, but mostly the movie seems to exist in the present and be willing to try anything for a laugh.\n",
      "\n",
      "\n",
      "5. Some of the gags don't work, but fewer than in any previous Brooks film that I've seen, and when the jokes are meant to be bad, they are riotously poor. What more can one ask of Mel Brooks?\n",
      "\n",
      "\n"
     ]
    }
   ],
   "source": [
    "prob = model_1.predict_proba(Input_1)[:, 0]\n",
    "predict = model_1.predict(Input_1)\n",
    "\n",
    "poor_negative = np.argsort(prob[Output_1 == 0])[:5]\n",
    "poor_positive = np.argsort(prob[Output_1 == 1])[-5:]\n",
    "\n",
    "print(\"Mismatched quotes in rotten category:\")\n",
    "count = 0;\n",
    "\n",
    "for row in poor_negative:\n",
    "    count += 1\n",
    "    print(str(count) + \". \" + reviews[Output_1 == 0].quote.iloc[row])\n",
    "    print('\\n')\n",
    "\n",
    "print('\\n')\n",
    "print (\"Mismatched quotes in fresh category:\")\n",
    "print\n",
    "count = 0;\n",
    "for row in poor_positive:\n",
    "    count += 1\n",
    "    print(str(count) + \". \" + reviews[Output_1 == 1].quote.iloc[row])\n",
    "    print('\\n')"
   ]
  },
  {
   "cell_type": "code",
   "execution_count": 51,
   "metadata": {},
   "outputs": [
    {
     "name": "stdout",
     "output_type": "stream",
     "text": [
      "Input String:  This movie is not remarkable, touching, or superb in any way\n",
      "Freshness Probability: 0.97\n"
     ]
    }
   ],
   "source": [
    "input_quote = 'This movie is not remarkable, touching, or superb in any way'\n",
    "\n",
    "# The string needs to be converted to a series, so that we can apply the vectorize transform function\n",
    "input_series = pd.Series(input_quote)\n",
    "\n",
    "# Initialize vectorizer\n",
    "vectorizer = CountVectorizer(min_df=best_min_df)\n",
    "\n",
    "# Fitting our Data of quotes\n",
    "vectorizer.fit(reviews.quote)\n",
    "\n",
    "# Transform our input string\n",
    "X = vectorizer.transform(input_series)\n",
    "\n",
    "# Probability of freshness\n",
    "print ('Input String: ',input_quote)\n",
    "print('Freshness Probability:',np.around(1 - float(model_1.predict_proba(X)[:,0]),3))"
   ]
  },
  {
   "cell_type": "markdown",
   "metadata": {},
   "source": [
    "In Naive Bayes, the assumption is that every word affects the probabilty independendently. This is not a good assumption, as the context and connotations of the word is lost. As seen in the example above, by addding the word \"not\" before the words - remarkable, superb and touching, the context changes, and makes it a negative review, but as Naive Bayes only looks at the individual words, it returns a freshness probabaility of 97%, which is obviously incorrect. "
   ]
  }
 ],
 "metadata": {
  "kernelspec": {
   "display_name": "Python 3",
   "language": "python",
   "name": "python3"
  },
  "language_info": {
   "codemirror_mode": {
    "name": "ipython",
    "version": 3
   },
   "file_extension": ".py",
   "mimetype": "text/x-python",
   "name": "python",
   "nbconvert_exporter": "python",
   "pygments_lexer": "ipython3",
   "version": "3.6.0"
  }
 },
 "nbformat": 4,
 "nbformat_minor": 1
}
